{
 "cells": [
  {
   "cell_type": "markdown",
   "metadata": {},
   "source": [
    "# Codewars"
   ]
  },
  {
   "cell_type": "code",
   "execution_count": 1,
   "metadata": {},
   "outputs": [
    {
     "name": "stdout",
     "output_type": "stream",
     "text": [
      "5\n"
     ]
    }
   ],
   "source": [
    "def find_it(seq):\n",
    "    for n in seq:\n",
    "        if seq.count(n) % 2 == 1:\n",
    "            return n\n",
    "\n",
    "print(find_it([20,1,-1,2,-2,3,3,5,5,1,2,4,20,4,-1,-2,5]))"
   ]
  },
  {
   "cell_type": "code",
   "execution_count": 5,
   "metadata": {},
   "outputs": [
    {
     "name": "stdout",
     "output_type": "stream",
     "text": [
      "[121, 361, 361, 361, 14641, 20736, 20736, 25921]\n",
      "[11.0, 19.0, 19.0, 19.0, 121.0, 144.0, 144.0, 161.0]\n",
      "True\n",
      "[121, 361]\n",
      "[3.4641016151377544, 11.0]\n",
      "False\n",
      "False\n",
      "[196, 6241]\n",
      "[4.358898943540674, 79.0]\n",
      "False\n",
      "[10000]\n",
      "[100.00499987500625]\n",
      "False\n",
      "[225, 8649]\n",
      "[15.033296378372908, 93.0]\n",
      "False\n"
     ]
    }
   ],
   "source": [
    "import math\n",
    "def comp(array1, array2):\n",
    "    # your code\n",
    "    if (not array1) or (not array2) :\n",
    "        print('empty array(s)')\n",
    "        return False    \n",
    "    elif len(array1) != len(array2) :\n",
    "        print('arrays have different lengths')\n",
    "        return False\n",
    "    else:\n",
    "        for a in array1:\n",
    "            if a != a or not isinstance(a,int):\n",
    "                return False\n",
    "            \n",
    "        for b in array2:\n",
    "            if b != b or not isinstance(b,int):\n",
    "                return False\n",
    "        array1 = sorted(array1)\n",
    "        array2 = sorted(array2)\n",
    "        array1sq = [i**2 for i in array1]\n",
    "        array2sqrt = [math.sqrt(i) for i in array2]\n",
    "        print(array1sq)\n",
    "#        print(array2)\n",
    "        print(array2sqrt)\n",
    "#        return array2 == array1sq\n",
    "        return array1 == array2sqrt\n",
    "\n",
    "a1 = [121, 144, 19, 161, 19, 144, 19, 11]\n",
    "a2 = [11*11, 121*121, 144*144, 19*19, 161*161, 19*19, 144*144, 19*19]\n",
    "a3 = [11,19]\n",
    "a4 = [12,11*11]\n",
    "a5 = ['text', 'test']\n",
    "a6 = [14,79]\n",
    "a7 = [19,6241]\n",
    "a8 = [100]\n",
    "a9 = [10001]\n",
    "a10 = [15,93]\n",
    "a11 = [226, 8649]\n",
    "print(comp(a1, a2))\n",
    "print(comp(a3, a4))\n",
    "print(comp(a3,a5))\n",
    "print(comp(a6,a7))\n",
    "print(comp(a8,a9))\n",
    "print(comp(a10,a11))"
   ]
  },
  {
   "cell_type": "code",
   "execution_count": 3,
   "metadata": {},
   "outputs": [
    {
     "name": "stdout",
     "output_type": "stream",
     "text": [
      "Thi1s is2 3a T4est --> Thi1s is2 3a T4est\n",
      "Thi1s is2 3a T4est --> Thi1s is2 3a T4est\n"
     ]
    }
   ],
   "source": [
    "def order(sentence):\n",
    "  if not sentence:\n",
    "      return sentence\n",
    "  else:\n",
    "      my_dic = {'1': 'NONE', '2': 'NONE', '3': 'NONE',\n",
    "              '4': 'NONE', '5': 'NONE', '6': 'NONE',\n",
    "              '7': 'NONE', '8': 'NONE', '9': 'NONE'}\n",
    "      words = sentence.split(' ')\n",
    "      for w in words:\n",
    "          for c in w:\n",
    "              if c.isdigit():\n",
    "                  my_dic[c] = w\n",
    "      sorted_dic = sorted(my_dic.items())\n",
    "      ordered_sentence = ''\n",
    "      w_count = 0\n",
    "      for s in sorted_dic:\n",
    "          if s[1] != 'NONE':\n",
    "              w_count += 1\n",
    "              if w_count == 1:\n",
    "                  ordered_sentence += (s[1])\n",
    "              else:\n",
    "                  ordered_sentence += (' ' + s[1])\n",
    "      return ordered_sentence\n",
    "\n",
    "print(\"Thi1s is2 3a T4est -->\", order(\"is2 Thi1s T4est 3a\"))\n",
    "\n",
    "def order_better(sentence):\n",
    "    return ' '.join(sorted(sentence.splits(' '), \n",
    "                           key=lambda w: filter(str.isdigit, w)))\n",
    "print(\"Thi1s is2 3a T4est -->\", order(\"is2 Thi1s T4est 3a\"))"
   ]
  },
  {
   "cell_type": "code",
   "execution_count": 4,
   "metadata": {},
   "outputs": [
    {
     "name": "stdout",
     "output_type": "stream",
     "text": [
      "Pig latin is cool ! --> igPay atinlay siay oolcay !\n",
      "Pig latin is cool ! --> igPay atinlay siay oolcay !\n"
     ]
    }
   ],
   "source": [
    "from string import punctuation\n",
    "def pig_it(sentence):\n",
    "    words = sentence.split()\n",
    "    new_words = []\n",
    "    for w in words:\n",
    "        if w in punctuation:\n",
    "            new_words.append(w)\n",
    "        else:\n",
    "            new_words.append(''.join([w[1:],w[0],'ay']))\n",
    "    new_sentence = ' '.join(new_words)\n",
    "    return new_sentence\n",
    "\n",
    "print('Pig latin is cool ! -->', pig_it('Pig latin is cool !'))\n",
    "\n",
    "def pig_it_better(sentence):\n",
    "    lst = sentence.split()\n",
    "    return ' '.join( [word[1:] + word[:1] + 'ay' \n",
    "                      if word.isalpha() else word for word in lst])\n",
    "    \n",
    "print('Pig latin is cool ! -->', pig_it_better('Pig latin is cool !'))"
   ]
  },
  {
   "cell_type": "code",
   "execution_count": 1,
   "metadata": {},
   "outputs": [
    {
     "name": "stdout",
     "output_type": "stream",
     "text": [
      "h3ll0w0rld --> 3\n",
      "The Great Depression lasted from 1929 to 1939. --> 43\n"
     ]
    }
   ],
   "source": [
    "''' Your task in this kata is to implement a function that calculates \n",
    "the sum of the integers inside a string. \n",
    "For example, in the string \n",
    "\"The30quick20brown10f0x1203jumps914ov3r1349the102l4zy dog\", the sum \n",
    "of the integers is 3635.\n",
    "'''\n",
    "def sum_of_int_in_string(s):\n",
    "#    return [i for i in s]\n",
    "    return sum([int(i) for i in s if i.isdigit()])\n",
    "\n",
    "print('h3ll0w0rld -->', sum_of_int_in_string('h3ll0w0rld'))\n",
    "print('The Great Depression lasted from 1929 to 1939. -->', \n",
    "      sum_of_int_in_string('The Great Depression lasted from 1929 to 1939.'))"
   ]
  },
  {
   "cell_type": "code",
   "execution_count": 3,
   "metadata": {},
   "outputs": [
    {
     "name": "stdout",
     "output_type": "stream",
     "text": [
      "abcdefghijklmnopqrstuvwxyzABCDEFGHIJKLMNOPQRSTUVWXYZ\n",
      "test:\n",
      "0 a a\n",
      "1 b b\n",
      "2 c c\n",
      "3 d d\n",
      "4 f e\n",
      "e\n",
      "0 O O\n",
      "1 Q P\n",
      "P\n"
     ]
    }
   ],
   "source": [
    "import string\n",
    "print(string.ascii_letters)\n",
    "\n",
    "''' Write a method that takes an array of consecutive (increasing) letters \n",
    "as input and that returns the missing letter in the array.\n",
    "\n",
    "You will always get an valid array. And it will be always exactly one letter \n",
    "be missing. The length of the array will always be at least 2.\n",
    "The array will always contain letters in only one case.\n",
    "\n",
    "Example:\n",
    "\n",
    "['a','b','c','d','f'] -> 'e'\n",
    "['O','Q','R','S'] -> 'P'\n",
    "(Use the English alphabet with 26 letters!)\n",
    "'''\n",
    "def find_missing_letter(chars):\n",
    "    if chars[0] in string.ascii_lowercase:\n",
    "        full = string.ascii_lowercase\n",
    "    elif chars[0] in string.ascii_uppercase:\n",
    "        full = string.ascii_uppercase\n",
    "    full_chars = [c for c in full]\n",
    "    pos_start = full_chars.index(chars[0])\n",
    "    for i,c in enumerate(chars):\n",
    "        print(i, c, full_chars[pos_start+i])\n",
    "        if full_chars[pos_start+i] != c:\n",
    "            return full_chars[pos_start+i]\n",
    "\n",
    "print('test:')\n",
    "print(find_missing_letter(['a','b','c','d','f']))\n",
    "print(find_missing_letter(['O','Q','R','S']))"
   ]
  },
  {
   "cell_type": "code",
   "execution_count": 6,
   "metadata": {},
   "outputs": [
    {
     "name": "stdout",
     "output_type": "stream",
     "text": [
      "test:\n",
      "race(720, 850, 70): [0, 32, 18]\n",
      "race(80, 100, 40): [2, 0, 0]\n",
      "race(70, 80, 1): [0, 6, 0]\n",
      "race(20, 45, 11): [0, 26, 24]\n"
     ]
    }
   ],
   "source": [
    "''' Tortoise racing\n",
    "More generally: given two speeds v1 (A's speed, integer > 0) \n",
    "and v2 (B's speed, integer > 0) and a lead g (integer > 0) \n",
    "how long will it take B to catch A?\n",
    "\n",
    "The result will be an array [hour, min, sec] which is the time \n",
    "needed in hours, minutes and seconds (don't worry for \n",
    "fractions of second).\n",
    "'''\n",
    "\n",
    "def race(v1,v2,g):\n",
    "    hms = [0,0,0]\n",
    "    h_float = 0.\n",
    "    if v2 > v1:\n",
    "        h_float = float(g)/float(v2-v1) # h in float\n",
    "    else:\n",
    "        return None\n",
    "    secs = h_float*3600\n",
    "    hms[0] = math.floor(h_float)\n",
    "#    m_float = (h_float % 1)*60.\n",
    "#    hms[1] = math.floor(m_float)\n",
    "    hms[1] = math.floor((secs % 3600) / 60)\n",
    "#    s_float = (m_float % 1)*60.\n",
    "    hms[2] = math.floor(secs % 60)    \n",
    "    return hms\n",
    "\n",
    "def race_better(v1,v2,g):\n",
    "    if v1 >= v2:\n",
    "        return None\n",
    "    secs = 3600*g/(v2-v1)\n",
    "    return [secs/3600, secs%3600/60, secs%60]\n",
    "\n",
    "print('test:')\n",
    "print('race(720, 850, 70):', race(720, 850, 70))\n",
    "print('race(80, 100, 40):', race(80, 100, 40))\n",
    "print('race(70, 80, 1):', race(70, 80, 1))\n",
    "print('race(20, 45, 11):', race(20, 45, 11))"
   ]
  },
  {
   "cell_type": "code",
   "execution_count": 7,
   "metadata": {},
   "outputs": [
    {
     "name": "stdout",
     "output_type": "stream",
     "text": [
      "test:\n",
      "delete_nth([20,37,20,21], 1) [20, 37, 21]\n",
      "delete_nth([1,1,3,3,7,2,2,2,2], 3) [1, 1, 3, 3, 7, 2, 2, 2]\n"
     ]
    }
   ],
   "source": [
    "'''\n",
    "Given a list lst and a number N, create a new list that contains \n",
    "each number of lst at most N times without reordering. For example \n",
    "if N = 2, and the input is [1,2,3,1,2,1,2,3], you take [1,2,3,1,2], \n",
    "drop the next [1,2] since this would lead to 1 and 2 being in\n",
    " the result 3 times, and then take 3, which leads to [1,2,3,1,2,3].\n",
    " '''\n",
    " \n",
    "def delete_nth(order, max_e):\n",
    "     ans = []\n",
    "     for i in order:\n",
    "         if ans.count(i) < max_e:\n",
    "             ans.append(i)\n",
    "     return ans\n",
    "\n",
    "print('test:')\n",
    "print('delete_nth([20,37,20,21], 1)', delete_nth([20,37,20,21], 1))\n",
    "print('delete_nth([1,1,3,3,7,2,2,2,2], 3)', delete_nth([1,1,3,3,7,2,2,2,2], 3))\n"
   ]
  },
  {
   "cell_type": "code",
   "execution_count": 8,
   "metadata": {},
   "outputs": [
    {
     "name": "stdout",
     "output_type": "stream",
     "text": [
      "test:\n",
      "{'a': 1, 'b': 1, 'c': 1, 'd': 1, 'e': 1}\n",
      "duplicate_count(\"abcde\") 0\n",
      "{'a': 1, '1': 2, 'b': 1, 'c': 1, 'd': 1, '2': 2, 'e': 1}\n",
      "duplicate_count(\"a1bc1d22e\") 2\n",
      "{'i': 6, 'n': 1, 'd': 1, 'v': 1, 's': 2, 'b': 1, 'l': 1, 't': 1, 'e': 1}\n",
      "duplicate_count(\"Indivisibilities\") 2\n",
      "{'a': 1, 'b': 2, 'c': 1, '1': 2, 'd': 1, '2': 2, 'e': 1}\n",
      "duplicate_count(\"AaAbBC1bc1d22e\") 3\n"
     ]
    }
   ],
   "source": [
    "'''\n",
    "Count the number of Duplicates\n",
    "Write a function that will return the count of distinct case-insensitive \n",
    "alphabetic characters and numeric digits that occur more than once in the \n",
    "input string. The input string can be assumed to contain only alphabets \n",
    "(both uppercase and lowercase) and numeric digits.\n",
    "'''\n",
    "\n",
    "def duplicate_count(text):\n",
    "    count_dict = {}\n",
    "    unique_chars = []\n",
    "    for c in list(text.lower()):\n",
    "        if c not in unique_chars:\n",
    "            unique_chars.append(c)\n",
    "            count_dict[c] = text.count(c)\n",
    "    print(count_dict)\n",
    "    n_dup = 0\n",
    "    for k,v in count_dict.items():\n",
    "        if v > 1:\n",
    "            n_dup += 1\n",
    "    return n_dup\n",
    "\n",
    "print('test:')\n",
    "print('duplicate_count(\"abcde\")', duplicate_count(\"abcde\"))\n",
    "print('duplicate_count(\"a1bc1d22e\")', duplicate_count(\"a1bc1d22e\"))\n",
    "print('duplicate_count(\"Indivisibilities\")', duplicate_count(\"Indivisibilities\"))\n",
    "print('duplicate_count(\"AaAbBC1bc1d22e\")', duplicate_count(\"AaAbBC1bc1d22e\"))\n"
   ]
  },
  {
   "cell_type": "code",
   "execution_count": 2,
   "metadata": {},
   "outputs": [
    {
     "name": "stdout",
     "output_type": "stream",
     "text": [
      "test:\n",
      "2 is prime, prime count = 1\n",
      "3 is prime, prime count = 2\n",
      "5 is prime, prime count = 3\n",
      "7 is prime, prime count = 4\n",
      "11 is prime, prime count = 5\n",
      "13 is prime, prime count = 6\n",
      "17 is prime, prime count = 7\n",
      "19 is prime, prime count = 8\n",
      "23 is prime, prime count = 9\n",
      "29 is prime, prime count = 10\n",
      "31 is prime, prime count = 11\n",
      "37 is prime, prime count = 12\n",
      "41 is prime, prime count = 13\n",
      "43 is prime, prime count = 14\n",
      "47 is prime, prime count = 15\n",
      "53 is prime, prime count = 16\n",
      "59 is prime, prime count = 17\n",
      "61 is prime, prime count = 18\n",
      "67 is prime, prime count = 19\n",
      "71 is prime, prime count = 20\n",
      "73 is prime, prime count = 21\n",
      "79 is prime, prime count = 22\n",
      "83 is prime, prime count = 23\n",
      "89 is prime, prime count = 24\n",
      "97 is prime, prime count = 25\n",
      "gap(5,2,100) None\n",
      "101 is prime, prime count = 1\n",
      "103 is prime, prime count = 2\n",
      "gap(2,100,200) [101, 103]\n",
      "307 is prime, prime count = 1\n",
      "311 is prime, prime count = 2\n",
      "313 is prime, prime count = 3\n",
      "317 is prime, prime count = 4\n",
      "331 is prime, prime count = 5\n",
      "337 is prime, prime count = 6\n",
      "347 is prime, prime count = 7\n",
      "gap(10,300,400) [337, 347]\n"
     ]
    }
   ],
   "source": [
    "'''\n",
    "So this function should return the first pair of two prime numbers spaced \n",
    "with a gap of g between the limits m, n if these numbers exist otherwise nil \n",
    "or null or None or Nothing\n",
    "'''\n",
    "\n",
    "def gap(g, m, n):\n",
    "#    first_prime = 2\n",
    "    prime_count = 0\n",
    "    for k in range(m,n+1):\n",
    "        k_is_prime = True\n",
    "        for i in range(2, int(k/2)+1):\n",
    "            if k%i == 0:\n",
    "                k_is_prime = False\n",
    "                break\n",
    "        if k_is_prime:\n",
    "            prime_count += 1\n",
    "            print(f'{k} is prime, prime count = {prime_count}')\n",
    "            if prime_count == 1:\n",
    "                first_prime = k\n",
    "            elif k - first_prime == g:\n",
    "                return [first_prime, k]\n",
    "            else:\n",
    "                first_prime = k\n",
    "\n",
    "print('test:')\n",
    "print('gap(5,2,100)', gap(5,2,100))\n",
    "print('gap(2,100,200)', gap(2,100,200))\n",
    "print('gap(10,300,400)', gap(10,300,400))"
   ]
  },
  {
   "cell_type": "code",
   "execution_count": null,
   "metadata": {},
   "outputs": [],
   "source": []
  }
 ],
 "metadata": {
  "kernelspec": {
   "display_name": "Python 3",
   "language": "python",
   "name": "python3"
  },
  "language_info": {
   "codemirror_mode": {
    "name": "ipython",
    "version": 3
   },
   "file_extension": ".py",
   "mimetype": "text/x-python",
   "name": "python",
   "nbconvert_exporter": "python",
   "pygments_lexer": "ipython3",
   "version": "3.6.5"
  }
 },
 "nbformat": 4,
 "nbformat_minor": 2
}
